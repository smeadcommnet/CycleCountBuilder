{
 "cells": [
  {
   "cell_type": "code",
   "execution_count": 1,
   "metadata": {
    "collapsed": false
   },
   "outputs": [],
   "source": [
    "import pandas as pd\n",
    "import os\n",
    "import datetime \n",
    "import xlsxwriter\n",
    "import numpy as np"
   ]
  },
  {
   "cell_type": "code",
   "execution_count": 2,
   "metadata": {
    "collapsed": false
   },
   "outputs": [],
   "source": [
    "Now = datetime.datetime.now()\n",
    "Today = Now.weekday()"
   ]
  },
  {
   "cell_type": "code",
   "execution_count": 3,
   "metadata": {
    "collapsed": false
   },
   "outputs": [],
   "source": [
    "cyclecount = pd.DataFrame(data=None, index=None, columns = ['PartNumber', 'PartDescription', 'Age','Qty'],dtype=None,copy=False)\n"
   ]
  },
  {
   "cell_type": "code",
   "execution_count": 4,
   "metadata": {
    "collapsed": false
   },
   "outputs": [],
   "source": [
    "part = pd.read_excel('C:\\\\Users\\\\Stephen\\\\csv export\\\\Part.xlsx')\n"
   ]
  },
  {
   "cell_type": "code",
   "execution_count": 5,
   "metadata": {
    "collapsed": true
   },
   "outputs": [],
   "source": [
    "Location = pd.read_excel('C:\\\\Users\\\\Stephen\\\\csv export\\\\Locations.xlsx')"
   ]
  },
  {
   "cell_type": "code",
   "execution_count": 6,
   "metadata": {
    "collapsed": true
   },
   "outputs": [],
   "source": [
    "part = pd.merge(part,Location.copy(),how='left',on='PartNumber')"
   ]
  },
  {
   "cell_type": "code",
   "execution_count": 7,
   "metadata": {
    "collapsed": false,
    "scrolled": true
   },
   "outputs": [],
   "source": [
    "part = part.dropna()\n"
   ]
  },
  {
   "cell_type": "code",
   "execution_count": 8,
   "metadata": {
    "collapsed": false
   },
   "outputs": [],
   "source": [
    "part = part.drop(['LocGroup','Location'],1)"
   ]
  },
  {
   "cell_type": "code",
   "execution_count": 9,
   "metadata": {
    "collapsed": false
   },
   "outputs": [],
   "source": [
    "part['Age'] = part['today'] - part['CF-Cycle Count Date']"
   ]
  },
  {
   "cell_type": "code",
   "execution_count": 10,
   "metadata": {
    "collapsed": false,
    "scrolled": true
   },
   "outputs": [],
   "source": [
    "A_Part = part[['PartNumber','PartDescription','Age']][part['ABCCode'] == 'A'].copy()"
   ]
  },
  {
   "cell_type": "code",
   "execution_count": 11,
   "metadata": {
    "collapsed": false,
    "scrolled": false
   },
   "outputs": [],
   "source": [
    "A_Part = A_Part.sort_values(by='Age',axis=0,ascending=False,)"
   ]
  },
  {
   "cell_type": "code",
   "execution_count": 12,
   "metadata": {
    "collapsed": false
   },
   "outputs": [],
   "source": [
    "A_Part_Even = A_Part.head(3)"
   ]
  },
  {
   "cell_type": "code",
   "execution_count": 13,
   "metadata": {
    "collapsed": false
   },
   "outputs": [],
   "source": [
    "A_Part_Odd = A_Part.head(2)"
   ]
  },
  {
   "cell_type": "code",
   "execution_count": 14,
   "metadata": {
    "collapsed": false
   },
   "outputs": [],
   "source": [
    "if Today == 0:\n",
    "    cyclecount = cyclecount.append(A_Part_Even,ignore_index=True,verify_integrity=False)\n",
    "elif Today == 1:\n",
    "    cyclecount = cyclecount.append(A_Part_Odd,ignore_index=True,verify_integrity=False)\n",
    "elif Today == 2:\n",
    "    cyclecount = cyclecount.append(A_Part_Even,ignore_index=True,verify_integrity=False)\n",
    "elif Today == 3:\n",
    "     cyclecount = cyclecount.append(A_Part_Odd,ignore_index=True,verify_integrity=False)\n",
    "else:\n",
    "    cyclecount = cyclecount.append(A_Part_Even,ignore_index=True,verify_integrity=False)"
   ]
  },
  {
   "cell_type": "code",
   "execution_count": 15,
   "metadata": {
    "collapsed": false
   },
   "outputs": [],
   "source": [
    "B_Part = part[['PartNumber','PartDescription','Age']][part['ABCCode'] == 'B'].copy()"
   ]
  },
  {
   "cell_type": "code",
   "execution_count": 16,
   "metadata": {
    "collapsed": false
   },
   "outputs": [],
   "source": [
    "B_Part = B_Part.sort_values(by='Age',axis=0,ascending=False,)"
   ]
  },
  {
   "cell_type": "code",
   "execution_count": 17,
   "metadata": {
    "collapsed": true
   },
   "outputs": [],
   "source": [
    "B_Part_All = B_Part.head(1)"
   ]
  },
  {
   "cell_type": "code",
   "execution_count": 18,
   "metadata": {
    "collapsed": true
   },
   "outputs": [],
   "source": [
    "cyclecount = cyclecount.append(B_Part_All)"
   ]
  },
  {
   "cell_type": "code",
   "execution_count": 19,
   "metadata": {
    "collapsed": true
   },
   "outputs": [],
   "source": [
    "C_Part = part[['PartNumber','PartDescription','Age']][part['ABCCode'] == 'C'].copy()"
   ]
  },
  {
   "cell_type": "code",
   "execution_count": 20,
   "metadata": {
    "collapsed": false
   },
   "outputs": [],
   "source": [
    "C_Part = C_Part.sort_values(by='Age',axis=0,ascending=False,)"
   ]
  },
  {
   "cell_type": "code",
   "execution_count": 21,
   "metadata": {
    "collapsed": true
   },
   "outputs": [],
   "source": [
    "C_Part_All = C_Part.head(1)"
   ]
  },
  {
   "cell_type": "code",
   "execution_count": 22,
   "metadata": {
    "collapsed": false
   },
   "outputs": [],
   "source": [
    "if Today == 1:\n",
    "     cyclecount = cyclecount.append(C_Part_All,ignore_index=True,verify_integrity=False)\n",
    "elif Today == 3:\n",
    "    cyclecount = cyclecount.append(C_Part_All,ignore_index=True,verify_integrity=False)\n",
    "\n",
    "    "
   ]
  },
  {
   "cell_type": "code",
   "execution_count": 23,
   "metadata": {
    "collapsed": false
   },
   "outputs": [],
   "source": [
    "export = pd.merge(cyclecount.copy(),Location.copy(),how='left',on='PartNumber')"
   ]
  },
  {
   "cell_type": "code",
   "execution_count": 24,
   "metadata": {
    "collapsed": true
   },
   "outputs": [],
   "source": [
    "export = export.sort_values(by='LocGroup',axis=0,ascending=False)"
   ]
  },
  {
   "cell_type": "code",
   "execution_count": 25,
   "metadata": {
    "collapsed": false
   },
   "outputs": [],
   "source": [
    "export = export.drop(['Age'],1)"
   ]
  },
  {
   "cell_type": "code",
   "execution_count": 26,
   "metadata": {
    "collapsed": false
   },
   "outputs": [],
   "source": [
    "export['Counter'] = np.nan"
   ]
  },
  {
   "cell_type": "code",
   "execution_count": 27,
   "metadata": {
    "collapsed": false
   },
   "outputs": [
    {
     "data": {
      "text/html": [
       "<div>\n",
       "<table border=\"1\" class=\"dataframe\">\n",
       "  <thead>\n",
       "    <tr style=\"text-align: right;\">\n",
       "      <th></th>\n",
       "      <th>PartDescription</th>\n",
       "      <th>PartNumber</th>\n",
       "      <th>Qty</th>\n",
       "      <th>LocGroup</th>\n",
       "      <th>Location</th>\n",
       "      <th>Counter</th>\n",
       "    </tr>\n",
       "  </thead>\n",
       "  <tbody>\n",
       "    <tr>\n",
       "      <th>0</th>\n",
       "      <td>PS;  Converter; 3w 36-72 vin; 5v out</td>\n",
       "      <td>012-002-10</td>\n",
       "      <td>NaN</td>\n",
       "      <td>WA Tech Grp</td>\n",
       "      <td>Out Sourced WIP</td>\n",
       "      <td>NaN</td>\n",
       "    </tr>\n",
       "    <tr>\n",
       "      <th>1</th>\n",
       "      <td>PS;  Converter; 3w 36-72 vin; 5v out</td>\n",
       "      <td>012-002-10</td>\n",
       "      <td>NaN</td>\n",
       "      <td>WA Tech Grp</td>\n",
       "      <td>R 01, S 2; W 1</td>\n",
       "      <td>NaN</td>\n",
       "    </tr>\n",
       "    <tr>\n",
       "      <th>2</th>\n",
       "      <td>PS;  Converter; 3w 36-72 vin; 5v out</td>\n",
       "      <td>012-002-10</td>\n",
       "      <td>NaN</td>\n",
       "      <td>WA Tech Grp</td>\n",
       "      <td>R 15, S 2; W 1</td>\n",
       "      <td>NaN</td>\n",
       "    </tr>\n",
       "    <tr>\n",
       "      <th>8</th>\n",
       "      <td>Rectifier; Argus Cordex; HP CXRF 48-4.0kW 208-...</td>\n",
       "      <td>010-623-20-040</td>\n",
       "      <td>NaN</td>\n",
       "      <td>WA Tech Grp</td>\n",
       "      <td>MRB QC Office; W 1</td>\n",
       "      <td>NaN</td>\n",
       "    </tr>\n",
       "    <tr>\n",
       "      <th>9</th>\n",
       "      <td>Rectifier; Argus Cordex; HP CXRF 48-4.0kW 208-...</td>\n",
       "      <td>010-623-20-040</td>\n",
       "      <td>NaN</td>\n",
       "      <td>WA Tech Grp</td>\n",
       "      <td>R 32, S 3; W 1</td>\n",
       "      <td>NaN</td>\n",
       "    </tr>\n",
       "    <tr>\n",
       "      <th>14</th>\n",
       "      <td>Hinge; detented open angle Nylon; black; with ...</td>\n",
       "      <td>647-001-10</td>\n",
       "      <td>NaN</td>\n",
       "      <td>WA Tech Grp</td>\n",
       "      <td>R 11, S 5; W 1</td>\n",
       "      <td>NaN</td>\n",
       "    </tr>\n",
       "    <tr>\n",
       "      <th>7</th>\n",
       "      <td>Rectifier; Argus Cordex; HP CXRF 48-4.0kW 208-...</td>\n",
       "      <td>010-623-20-040</td>\n",
       "      <td>NaN</td>\n",
       "      <td>TX</td>\n",
       "      <td>Receiving</td>\n",
       "      <td>NaN</td>\n",
       "    </tr>\n",
       "    <tr>\n",
       "      <th>5</th>\n",
       "      <td>Rectifier; Argus Cordex; HP CXRF 48-4.0kW 208-...</td>\n",
       "      <td>010-623-20-040</td>\n",
       "      <td>NaN</td>\n",
       "      <td>TN</td>\n",
       "      <td>R B, S 2</td>\n",
       "      <td>NaN</td>\n",
       "    </tr>\n",
       "    <tr>\n",
       "      <th>6</th>\n",
       "      <td>Rectifier; Argus Cordex; HP CXRF 48-4.0kW 208-...</td>\n",
       "      <td>010-623-20-040</td>\n",
       "      <td>NaN</td>\n",
       "      <td>TN</td>\n",
       "      <td>Receiving</td>\n",
       "      <td>NaN</td>\n",
       "    </tr>\n",
       "    <tr>\n",
       "      <th>13</th>\n",
       "      <td>Aux Framing Channel; 2 In. (SB) X 9/16 In. X 3...</td>\n",
       "      <td>050-003-10</td>\n",
       "      <td>NaN</td>\n",
       "      <td>TN</td>\n",
       "      <td>R B, S 4</td>\n",
       "      <td>NaN</td>\n",
       "    </tr>\n",
       "    <tr>\n",
       "      <th>12</th>\n",
       "      <td>Aux Framing Channel; 2 In. (SB) X 9/16 In. X 3...</td>\n",
       "      <td>050-003-10</td>\n",
       "      <td>NaN</td>\n",
       "      <td>SAC</td>\n",
       "      <td>Receiving</td>\n",
       "      <td>NaN</td>\n",
       "    </tr>\n",
       "    <tr>\n",
       "      <th>4</th>\n",
       "      <td>Rectifier; Argus Cordex; HP CXRF 48-4.0kW 208-...</td>\n",
       "      <td>010-623-20-040</td>\n",
       "      <td>NaN</td>\n",
       "      <td>MD</td>\n",
       "      <td>W A, S 6</td>\n",
       "      <td>NaN</td>\n",
       "    </tr>\n",
       "    <tr>\n",
       "      <th>11</th>\n",
       "      <td>Aux Framing Channel; 2 In. (SB) X 9/16 In. X 3...</td>\n",
       "      <td>050-003-10</td>\n",
       "      <td>NaN</td>\n",
       "      <td>MD</td>\n",
       "      <td>Shipping</td>\n",
       "      <td>NaN</td>\n",
       "    </tr>\n",
       "    <tr>\n",
       "      <th>10</th>\n",
       "      <td>Aux Framing Channel; 2 In. (SB) X 9/16 In. X 3...</td>\n",
       "      <td>050-003-10</td>\n",
       "      <td>NaN</td>\n",
       "      <td>CO</td>\n",
       "      <td>Receiving</td>\n",
       "      <td>NaN</td>\n",
       "    </tr>\n",
       "    <tr>\n",
       "      <th>3</th>\n",
       "      <td>Rectifier; Argus Cordex; HP CXRF 48-4.0kW 208-...</td>\n",
       "      <td>010-623-20-040</td>\n",
       "      <td>NaN</td>\n",
       "      <td>CA LA</td>\n",
       "      <td>W 6, mezzanine</td>\n",
       "      <td>NaN</td>\n",
       "    </tr>\n",
       "  </tbody>\n",
       "</table>\n",
       "</div>"
      ],
      "text/plain": [
       "                                      PartDescription      PartNumber  Qty  \\\n",
       "0                PS;  Converter; 3w 36-72 vin; 5v out      012-002-10  NaN   \n",
       "1                PS;  Converter; 3w 36-72 vin; 5v out      012-002-10  NaN   \n",
       "2                PS;  Converter; 3w 36-72 vin; 5v out      012-002-10  NaN   \n",
       "8   Rectifier; Argus Cordex; HP CXRF 48-4.0kW 208-...  010-623-20-040  NaN   \n",
       "9   Rectifier; Argus Cordex; HP CXRF 48-4.0kW 208-...  010-623-20-040  NaN   \n",
       "14  Hinge; detented open angle Nylon; black; with ...      647-001-10  NaN   \n",
       "7   Rectifier; Argus Cordex; HP CXRF 48-4.0kW 208-...  010-623-20-040  NaN   \n",
       "5   Rectifier; Argus Cordex; HP CXRF 48-4.0kW 208-...  010-623-20-040  NaN   \n",
       "6   Rectifier; Argus Cordex; HP CXRF 48-4.0kW 208-...  010-623-20-040  NaN   \n",
       "13  Aux Framing Channel; 2 In. (SB) X 9/16 In. X 3...      050-003-10  NaN   \n",
       "12  Aux Framing Channel; 2 In. (SB) X 9/16 In. X 3...      050-003-10  NaN   \n",
       "4   Rectifier; Argus Cordex; HP CXRF 48-4.0kW 208-...  010-623-20-040  NaN   \n",
       "11  Aux Framing Channel; 2 In. (SB) X 9/16 In. X 3...      050-003-10  NaN   \n",
       "10  Aux Framing Channel; 2 In. (SB) X 9/16 In. X 3...      050-003-10  NaN   \n",
       "3   Rectifier; Argus Cordex; HP CXRF 48-4.0kW 208-...  010-623-20-040  NaN   \n",
       "\n",
       "       LocGroup            Location  Counter  \n",
       "0   WA Tech Grp     Out Sourced WIP      NaN  \n",
       "1   WA Tech Grp      R 01, S 2; W 1      NaN  \n",
       "2   WA Tech Grp      R 15, S 2; W 1      NaN  \n",
       "8   WA Tech Grp  MRB QC Office; W 1      NaN  \n",
       "9   WA Tech Grp      R 32, S 3; W 1      NaN  \n",
       "14  WA Tech Grp      R 11, S 5; W 1      NaN  \n",
       "7            TX           Receiving      NaN  \n",
       "5            TN            R B, S 2      NaN  \n",
       "6            TN           Receiving      NaN  \n",
       "13           TN            R B, S 4      NaN  \n",
       "12          SAC           Receiving      NaN  \n",
       "4            MD            W A, S 6      NaN  \n",
       "11           MD            Shipping      NaN  \n",
       "10           CO           Receiving      NaN  \n",
       "3         CA LA      W 6, mezzanine      NaN  "
      ]
     },
     "execution_count": 27,
     "metadata": {},
     "output_type": "execute_result"
    }
   ],
   "source": [
    "export"
   ]
  },
  {
   "cell_type": "code",
   "execution_count": 28,
   "metadata": {
    "collapsed": false
   },
   "outputs": [],
   "source": [
    "export_SAC = export[['Counter', 'PartNumber', 'PartDescription', 'Qty','LocGroup','Location']][export['LocGroup']== 'SAC'].copy()"
   ]
  },
  {
   "cell_type": "code",
   "execution_count": 29,
   "metadata": {
    "collapsed": true
   },
   "outputs": [],
   "source": [
    "export = export[export.LocGroup != 'SAC']"
   ]
  },
  {
   "cell_type": "code",
   "execution_count": 30,
   "metadata": {
    "collapsed": false
   },
   "outputs": [],
   "source": [
    "export_MD = export[['Counter', 'PartNumber', 'PartDescription', 'Qty','LocGroup','Location']][export['LocGroup']== 'MD'].copy()"
   ]
  },
  {
   "cell_type": "code",
   "execution_count": 31,
   "metadata": {
    "collapsed": true
   },
   "outputs": [],
   "source": [
    "export = export[export.LocGroup != 'MD']"
   ]
  },
  {
   "cell_type": "code",
   "execution_count": 32,
   "metadata": {
    "collapsed": true
   },
   "outputs": [],
   "source": [
    "export_TN = export[['Counter', 'PartNumber', 'PartDescription', 'Qty','LocGroup','Location']][export['LocGroup']== 'TN'].copy()"
   ]
  },
  {
   "cell_type": "code",
   "execution_count": 33,
   "metadata": {
    "collapsed": true
   },
   "outputs": [],
   "source": [
    "export = export[export.LocGroup != 'TN']"
   ]
  },
  {
   "cell_type": "code",
   "execution_count": 34,
   "metadata": {
    "collapsed": true
   },
   "outputs": [],
   "source": [
    "export_WA = export"
   ]
  },
  {
   "cell_type": "code",
   "execution_count": 35,
   "metadata": {
    "collapsed": false
   },
   "outputs": [],
   "source": [
    "writer = pd.ExcelWriter('Z:\\Cycle Counting\\Daily List\\Daily List.xlsx',engine='xlsxwriter')"
   ]
  },
  {
   "cell_type": "code",
   "execution_count": 36,
   "metadata": {
    "collapsed": false
   },
   "outputs": [],
   "source": [
    "export_MD.to_excel(writer,sheet_name='MD',index=False)"
   ]
  },
  {
   "cell_type": "code",
   "execution_count": 37,
   "metadata": {
    "collapsed": true
   },
   "outputs": [],
   "source": [
    "export_SAC.to_excel(writer,sheet_name='SAC',index=False)"
   ]
  },
  {
   "cell_type": "code",
   "execution_count": 38,
   "metadata": {
    "collapsed": true
   },
   "outputs": [],
   "source": [
    "export_TN.to_excel(writer,sheet_name='TN',index=False)"
   ]
  },
  {
   "cell_type": "code",
   "execution_count": 39,
   "metadata": {
    "collapsed": true
   },
   "outputs": [],
   "source": [
    "export_WA.to_excel(writer,sheet_name='WA',index=False)"
   ]
  },
  {
   "cell_type": "code",
   "execution_count": 40,
   "metadata": {
    "collapsed": true
   },
   "outputs": [],
   "source": [
    "writer.save()"
   ]
  },
  {
   "cell_type": "code",
   "execution_count": null,
   "metadata": {
    "collapsed": true
   },
   "outputs": [],
   "source": []
  }
 ],
 "metadata": {
  "kernelspec": {
   "display_name": "Python 3",
   "language": "python",
   "name": "python3"
  },
  "language_info": {
   "codemirror_mode": {
    "name": "ipython",
    "version": 3
   },
   "file_extension": ".py",
   "mimetype": "text/x-python",
   "name": "python",
   "nbconvert_exporter": "python",
   "pygments_lexer": "ipython3",
   "version": "3.5.1"
  }
 },
 "nbformat": 4,
 "nbformat_minor": 2
}
